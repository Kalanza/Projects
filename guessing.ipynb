{
 "cells": [
  {
   "cell_type": "markdown",
   "id": "d7216693",
   "metadata": {},
   "source": [
    "Objective\n",
    "Build a simple game where the user guesses a randomly selected number within a custom range.\n",
    "\n",
    "How It Works\n",
    "Set Range: The user defines lower and upper bounds (e.g., A to B).\n",
    "\n",
    "Random Selection: The system picks a random number within the range.\n",
    "\n",
    "Guessing: The user tries to guess the number with minimal attempts.\n",
    "\n",
    "Feedback: After each guess, the game indicates if the guess was too high or too low.\n",
    "\n",
    "Strategy\n",
    "Narrowing down the range intelligently (like binary search) improves efficiency."
   ]
  },
  {
   "cell_type": "code",
   "execution_count": null,
   "id": "4bc54669",
   "metadata": {},
   "outputs": [],
   "source": []
  },
  {
   "cell_type": "code",
   "execution_count": null,
   "id": "4085ba25",
   "metadata": {},
   "outputs": [],
   "source": [
    "#Geeks for Geeks Solution to the Random Number Guessing Game\n",
    "import random\n",
    "\n",
    "print(\"Hi! Welcome to the Number Guessing Game.\\nYou have 7 chances to guess the number. Let's start!\")\n",
    "\n",
    "low = int(input(\"Enter the Lower Bound: \"))\n",
    "high = int(input(\"Enter the Upper Bound: \"))\n",
    "\n",
    "print(f\"\\nYou have 7 chances to guess the number between {low} and {high}. Let's start!\")\n",
    "\n",
    "num = random.randint(low, high) \n",
    "ch = 7                        # Total allowed chances\n",
    "gc = 0                        # Guess counter\n",
    "\n",
    "while gc < ch:\n",
    "    gc += 1\n",
    "    guess = int(input('Enter your guess: '))\n",
    "\n",
    "    if guess == num:\n",
    "        print(f'Correct! The number is {num}. You guessed it in {gc} attempts.')\n",
    "        break\n",
    "\n",
    "    elif gc >= ch and guess != num:\n",
    "        print(f'orry! The number was {num}. Better luck next time.')\n",
    "\n",
    "    elif guess > num:\n",
    "        print('Too high! Try a lower number.')\n",
    "\n",
    "    elif guess < num:\n",
    "        print('Too low! Try a higher number.')"
   ]
  }
 ],
 "metadata": {
  "kernelspec": {
   "display_name": "base",
   "language": "python",
   "name": "python3"
  },
  "language_info": {
   "codemirror_mode": {
    "name": "ipython",
    "version": 3
   },
   "file_extension": ".py",
   "mimetype": "text/x-python",
   "name": "python",
   "nbconvert_exporter": "python",
   "pygments_lexer": "ipython3",
   "version": "3.12.7"
  }
 },
 "nbformat": 4,
 "nbformat_minor": 5
}
