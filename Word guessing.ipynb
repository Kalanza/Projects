{
 "cells": [
  {
   "cell_type": "markdown",
   "id": "291e223f",
   "metadata": {},
   "source": [
    "This program is a simple word-guessing game where the user has to guess the characters in a randomly selected word within a limited number of attempts. The program provides feedback after each guess, helping the user to either complete the word or lose the game based on their guesses."
   ]
  },
  {
   "cell_type": "code",
   "execution_count": null,
   "id": "c63d72a1",
   "metadata": {},
   "outputs": [],
   "source": [
    "import random\n",
    "\n",
    "name = input(\"What is your name? \")\n",
    "print(f\"Hello, {name}! Let's play a game. Good Luck!\")\n",
    "\n",
    "words = ['rainbow', 'computer', 'science', 'programming', 'python', \n",
    "         'mathematics', 'player', 'condition', 'reverse', 'water', \n",
    "         'board', 'geeks']\n",
    "word = random.choice(words)\n",
    "\n",
    "print(f\"Guess the word! It has {len(word)} letters.\")\n",
    "initial_guess = input(\"Guess the word: \").strip().lower()\n",
    "\n",
    "if initial_guess == word:\n",
    "    print(\"Congratulations! You guessed the word correctly! You win!\")\n",
    "else:\n",
    "    print(\"That's not quite right. Let's try guessing letters instead.\")\n",
    "    guesses = ''\n",
    "    attempts = 10\n",
    "\n",
    "    while attempts > 0:\n",
    "        failed = 0\n",
    "        for char in word:\n",
    "            if char in guesses:\n",
    "                print(char, end=' ')\n",
    "            else:\n",
    "                print('_', end=' ')\n",
    "                failed += 1\n",
    "        print()\n",
    "\n",
    "        if failed == 0:\n",
    "            print(f\"You won! The word is: {word}\")\n",
    "            break\n",
    "\n",
    "        print(f\"You have {attempts} {'attempt' if attempts == 1 else 'attempts'} left.\")\n",
    "        guess = input(\"Guess a letter: \").lower().strip()\n",
    "        \n",
    "        if len(guess) != 1 or not guess.isalpha():\n",
    "            print(\"Please enter a single letter.\")\n",
    "            continue\n",
    "\n",
    "        if guess in guesses:\n",
    "            print(\"You already guessed that letter.\")\n",
    "            continue\n",
    "\n",
    "        guesses += guess\n",
    "\n",
    "        if guess in word:\n",
    "            print(\"Good job! That letter is in the word.\")\n",
    "        else:\n",
    "            attempts -= 1\n",
    "            print(\"Wrong guess. Try again!\")\n",
    "\n",
    "    if attempts == 0:\n",
    "        print(f\"You lost! The word was: {word}\")\n",
    "\n",
    "print(f\"Thanks for playing, {name}! See you next time.\")"
   ]
  },
  {
   "cell_type": "code",
   "execution_count": null,
   "id": "7e0b67e6",
   "metadata": {},
   "outputs": [],
   "source": []
  }
 ],
 "metadata": {
  "kernelspec": {
   "display_name": "base",
   "language": "python",
   "name": "python3"
  },
  "language_info": {
   "codemirror_mode": {
    "name": "ipython",
    "version": 3
   },
   "file_extension": ".py",
   "mimetype": "text/x-python",
   "name": "python",
   "nbconvert_exporter": "python",
   "pygments_lexer": "ipython3",
   "version": "3.12.7"
  }
 },
 "nbformat": 4,
 "nbformat_minor": 5
}
